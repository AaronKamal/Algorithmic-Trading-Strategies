{
 "cells": [
  {
   "cell_type": "code",
   "execution_count": 25,
   "metadata": {},
   "outputs": [],
   "source": [
    "import pandas as pd\n",
    "import numpy as np\n",
    "import pandas_datareader as pdr\n",
    "import pandas_datareader.data as web\n",
    "import matplotlib.pyplot as plt\n",
    "%matplotlib inline  \n",
    "from datetime import datetime\n",
    "import pytest\n",
    "from pypfopt import black_litterman, risk_models\n",
    "\n",
    "symbols = ['SBUX', 'GOOG', 'META', 'AAPL', 'BAC', 'JPM', 'T', 'GE', 'MSFT', 'XOM']\n",
    " \n",
    "all_stocks = pd.DataFrame()\n"
   ]
  },
  {
   "cell_type": "code",
   "execution_count": 26,
   "metadata": {},
   "outputs": [],
   "source": [
    "from pypfopt import black_litterman\n",
    "from pypfopt.black_litterman import BlackLittermanModel\n",
    "from pypfopt import risk_models, expected_returns"
   ]
  },
  {
   "cell_type": "code",
   "execution_count": 29,
   "metadata": {},
   "outputs": [],
   "source": [
    "def get_data():\n",
    "    return pd.read_csv(resource(\"stock_prices.csv\"), parse_dates=True, index_col=\"date\")"
   ]
  },
  {
   "cell_type": "code",
   "execution_count": 30,
   "metadata": {},
   "outputs": [],
   "source": [
    "def get_market_caps():\n",
    "    mcaps = {\n",
    "        \"GOOG\": 927e9,\n",
    "        \"AAPL\": 1.19e12,\n",
    "        \"META\": 574e9,\n",
    "        \"BABA\": 533e9,\n",
    "        \"AMZN\": 867e9,\n",
    "        \"GE\": 96e9,\n",
    "        \"AMD\": 43e9,\n",
    "        \"WMT\": 339e9,\n",
    "        \"BAC\": 301e9,\n",
    "        \"GM\": 51e9,\n",
    "        \"T\": 61e9,\n",
    "        \"UAA\": 78e9,\n",
    "        \"SHLD\": 0,\n",
    "        \"XOM\": 295e9,\n",
    "        \"RRC\": 1e9,\n",
    "        \"BBY\": 22e9,\n",
    "        \"MA\": 288e9,\n",
    "        \"PFE\": 212e9,\n",
    "        \"JPM\": 422e9,\n",
    "        \"SBUX\": 102e9,\n",
    "    }\n",
    "    return mcaps"
   ]
  },
  {
   "cell_type": "code",
   "execution_count": 31,
   "metadata": {},
   "outputs": [],
   "source": [
    "def get_data_by_symbols(symbols,data_source,ohlc,begin_date=None,end_date=None):\n",
    "    out = []\n",
    "    new_symbols = []\n",
    "    \n",
    "    for symbol in symbols:\n",
    "        df = web.DataReader(symbol, data_source, begin_date, end_date)\\\n",
    "        [['High','Low','Open','Close','Volume','Adj Close']]\n",
    "        new_symbols.append(symbol) \n",
    "        out.append(df[ohlc].astype('float'))\n",
    "        data = pd.concat(out, axis = 1)\n",
    "        data.columns = new_symbols\n",
    "        \n",
    "    return data"
   ]
  },
  {
   "cell_type": "code",
   "execution_count": 32,
   "metadata": {},
   "outputs": [],
   "source": [
    "start = pd.Timestamp('2015-01')\n",
    "end = pd.Timestamp('2020-12')\n",
    "data_source = 'yahoo'"
   ]
  },
  {
   "cell_type": "code",
   "execution_count": 34,
   "metadata": {},
   "outputs": [],
   "source": [
    "df_prices = get_data_by_symbols(symbols,data_source=data_source,ohlc='Adj Close', begin_date=start, end_date=end)"
   ]
  },
  {
   "cell_type": "code",
   "execution_count": 35,
   "metadata": {},
   "outputs": [
    {
     "data": {
      "text/html": [
       "<div>\n",
       "<style scoped>\n",
       "    .dataframe tbody tr th:only-of-type {\n",
       "        vertical-align: middle;\n",
       "    }\n",
       "\n",
       "    .dataframe tbody tr th {\n",
       "        vertical-align: top;\n",
       "    }\n",
       "\n",
       "    .dataframe thead th {\n",
       "        text-align: right;\n",
       "    }\n",
       "</style>\n",
       "<table border=\"1\" class=\"dataframe\">\n",
       "  <thead>\n",
       "    <tr style=\"text-align: right;\">\n",
       "      <th></th>\n",
       "      <th>SBUX</th>\n",
       "      <th>GOOG</th>\n",
       "      <th>META</th>\n",
       "      <th>AAPL</th>\n",
       "      <th>BAC</th>\n",
       "      <th>JPM</th>\n",
       "      <th>T</th>\n",
       "      <th>GE</th>\n",
       "      <th>MSFT</th>\n",
       "      <th>XOM</th>\n",
       "    </tr>\n",
       "    <tr>\n",
       "      <th>Date</th>\n",
       "      <th></th>\n",
       "      <th></th>\n",
       "      <th></th>\n",
       "      <th></th>\n",
       "      <th></th>\n",
       "      <th></th>\n",
       "      <th></th>\n",
       "      <th></th>\n",
       "      <th></th>\n",
       "      <th></th>\n",
       "    </tr>\n",
       "  </thead>\n",
       "  <tbody>\n",
       "    <tr>\n",
       "      <th>2015-01-02</th>\n",
       "      <td>35.324505</td>\n",
       "      <td>26.168653</td>\n",
       "      <td>78.449997</td>\n",
       "      <td>24.644018</td>\n",
       "      <td>15.456273</td>\n",
       "      <td>50.305370</td>\n",
       "      <td>13.803200</td>\n",
       "      <td>167.345612</td>\n",
       "      <td>40.926441</td>\n",
       "      <td>64.727486</td>\n",
       "    </tr>\n",
       "    <tr>\n",
       "      <th>2015-01-05</th>\n",
       "      <td>34.647850</td>\n",
       "      <td>25.623152</td>\n",
       "      <td>77.190002</td>\n",
       "      <td>23.949759</td>\n",
       "      <td>15.007266</td>\n",
       "      <td>48.743645</td>\n",
       "      <td>13.672790</td>\n",
       "      <td>164.273819</td>\n",
       "      <td>40.550083</td>\n",
       "      <td>62.956425</td>\n",
       "    </tr>\n",
       "    <tr>\n",
       "      <th>2015-01-06</th>\n",
       "      <td>34.365925</td>\n",
       "      <td>25.029282</td>\n",
       "      <td>76.150002</td>\n",
       "      <td>23.952015</td>\n",
       "      <td>14.558257</td>\n",
       "      <td>47.479755</td>\n",
       "      <td>13.693163</td>\n",
       "      <td>160.734543</td>\n",
       "      <td>39.954926</td>\n",
       "      <td>62.621716</td>\n",
       "    </tr>\n",
       "    <tr>\n",
       "      <th>2015-01-07</th>\n",
       "      <td>35.211735</td>\n",
       "      <td>24.986401</td>\n",
       "      <td>76.150002</td>\n",
       "      <td>24.287870</td>\n",
       "      <td>14.627335</td>\n",
       "      <td>47.552216</td>\n",
       "      <td>13.773004</td>\n",
       "      <td>160.801346</td>\n",
       "      <td>40.462559</td>\n",
       "      <td>63.256241</td>\n",
       "    </tr>\n",
       "    <tr>\n",
       "      <th>2015-01-08</th>\n",
       "      <td>35.779938</td>\n",
       "      <td>25.065184</td>\n",
       "      <td>78.180000</td>\n",
       "      <td>25.221067</td>\n",
       "      <td>14.929551</td>\n",
       "      <td>48.614841</td>\n",
       "      <td>13.910028</td>\n",
       "      <td>162.737900</td>\n",
       "      <td>41.652901</td>\n",
       "      <td>64.309128</td>\n",
       "    </tr>\n",
       "    <tr>\n",
       "      <th>...</th>\n",
       "      <td>...</td>\n",
       "      <td>...</td>\n",
       "      <td>...</td>\n",
       "      <td>...</td>\n",
       "      <td>...</td>\n",
       "      <td>...</td>\n",
       "      <td>...</td>\n",
       "      <td>...</td>\n",
       "      <td>...</td>\n",
       "      <td>...</td>\n",
       "    </tr>\n",
       "    <tr>\n",
       "      <th>2020-11-24</th>\n",
       "      <td>94.999428</td>\n",
       "      <td>88.444000</td>\n",
       "      <td>276.920013</td>\n",
       "      <td>113.992645</td>\n",
       "      <td>27.775000</td>\n",
       "      <td>116.618179</td>\n",
       "      <td>18.676151</td>\n",
       "      <td>82.983536</td>\n",
       "      <td>210.705597</td>\n",
       "      <td>38.345352</td>\n",
       "    </tr>\n",
       "    <tr>\n",
       "      <th>2020-11-25</th>\n",
       "      <td>94.902786</td>\n",
       "      <td>88.571503</td>\n",
       "      <td>275.589996</td>\n",
       "      <td>114.843849</td>\n",
       "      <td>27.822927</td>\n",
       "      <td>115.398285</td>\n",
       "      <td>18.522806</td>\n",
       "      <td>83.380585</td>\n",
       "      <td>210.715454</td>\n",
       "      <td>37.276649</td>\n",
       "    </tr>\n",
       "    <tr>\n",
       "      <th>2020-11-27</th>\n",
       "      <td>95.347351</td>\n",
       "      <td>89.659500</td>\n",
       "      <td>277.809998</td>\n",
       "      <td>115.398125</td>\n",
       "      <td>27.784588</td>\n",
       "      <td>114.632317</td>\n",
       "      <td>18.548363</td>\n",
       "      <td>82.586494</td>\n",
       "      <td>212.055405</td>\n",
       "      <td>36.710327</td>\n",
       "    </tr>\n",
       "    <tr>\n",
       "      <th>2020-11-30</th>\n",
       "      <td>94.728828</td>\n",
       "      <td>88.037003</td>\n",
       "      <td>276.970001</td>\n",
       "      <td>117.832977</td>\n",
       "      <td>26.989100</td>\n",
       "      <td>111.473816</td>\n",
       "      <td>18.369463</td>\n",
       "      <td>80.839455</td>\n",
       "      <td>210.912491</td>\n",
       "      <td>34.828686</td>\n",
       "    </tr>\n",
       "    <tr>\n",
       "      <th>2020-12-01</th>\n",
       "      <td>95.501976</td>\n",
       "      <td>89.904999</td>\n",
       "      <td>286.549988</td>\n",
       "      <td>121.465462</td>\n",
       "      <td>27.497061</td>\n",
       "      <td>113.232735</td>\n",
       "      <td>18.446133</td>\n",
       "      <td>80.601234</td>\n",
       "      <td>213.020950</td>\n",
       "      <td>35.166653</td>\n",
       "    </tr>\n",
       "  </tbody>\n",
       "</table>\n",
       "<p>1490 rows × 10 columns</p>\n",
       "</div>"
      ],
      "text/plain": [
       "                 SBUX       GOOG        META        AAPL        BAC  \\\n",
       "Date                                                                  \n",
       "2015-01-02  35.324505  26.168653   78.449997   24.644018  15.456273   \n",
       "2015-01-05  34.647850  25.623152   77.190002   23.949759  15.007266   \n",
       "2015-01-06  34.365925  25.029282   76.150002   23.952015  14.558257   \n",
       "2015-01-07  35.211735  24.986401   76.150002   24.287870  14.627335   \n",
       "2015-01-08  35.779938  25.065184   78.180000   25.221067  14.929551   \n",
       "...               ...        ...         ...         ...        ...   \n",
       "2020-11-24  94.999428  88.444000  276.920013  113.992645  27.775000   \n",
       "2020-11-25  94.902786  88.571503  275.589996  114.843849  27.822927   \n",
       "2020-11-27  95.347351  89.659500  277.809998  115.398125  27.784588   \n",
       "2020-11-30  94.728828  88.037003  276.970001  117.832977  26.989100   \n",
       "2020-12-01  95.501976  89.904999  286.549988  121.465462  27.497061   \n",
       "\n",
       "                   JPM          T          GE        MSFT        XOM  \n",
       "Date                                                                  \n",
       "2015-01-02   50.305370  13.803200  167.345612   40.926441  64.727486  \n",
       "2015-01-05   48.743645  13.672790  164.273819   40.550083  62.956425  \n",
       "2015-01-06   47.479755  13.693163  160.734543   39.954926  62.621716  \n",
       "2015-01-07   47.552216  13.773004  160.801346   40.462559  63.256241  \n",
       "2015-01-08   48.614841  13.910028  162.737900   41.652901  64.309128  \n",
       "...                ...        ...         ...         ...        ...  \n",
       "2020-11-24  116.618179  18.676151   82.983536  210.705597  38.345352  \n",
       "2020-11-25  115.398285  18.522806   83.380585  210.715454  37.276649  \n",
       "2020-11-27  114.632317  18.548363   82.586494  212.055405  36.710327  \n",
       "2020-11-30  111.473816  18.369463   80.839455  210.912491  34.828686  \n",
       "2020-12-01  113.232735  18.446133   80.601234  213.020950  35.166653  \n",
       "\n",
       "[1490 rows x 10 columns]"
      ]
     },
     "execution_count": 35,
     "metadata": {},
     "output_type": "execute_result"
    }
   ],
   "source": [
    "df_prices"
   ]
  },
  {
   "cell_type": "code",
   "execution_count": 46,
   "metadata": {},
   "outputs": [
    {
     "data": {
      "text/plain": [
       "SBUX    0.183318\n",
       "GOOG    0.232292\n",
       "META    0.245135\n",
       "AAPL    0.309907\n",
       "BAC     0.102405\n",
       "JPM     0.147185\n",
       "T       0.050296\n",
       "GE     -0.116301\n",
       "MSFT    0.322049\n",
       "XOM    -0.098100\n",
       "dtype: float64"
      ]
     },
     "execution_count": 46,
     "metadata": {},
     "output_type": "execute_result"
    }
   ],
   "source": [
    "mu = expected_returns.mean_historical_return(df_prices)\n",
    "mu"
   ]
  },
  {
   "cell_type": "code",
   "execution_count": 47,
   "metadata": {},
   "outputs": [
    {
     "data": {
      "text/html": [
       "<div>\n",
       "<style scoped>\n",
       "    .dataframe tbody tr th:only-of-type {\n",
       "        vertical-align: middle;\n",
       "    }\n",
       "\n",
       "    .dataframe tbody tr th {\n",
       "        vertical-align: top;\n",
       "    }\n",
       "\n",
       "    .dataframe thead th {\n",
       "        text-align: right;\n",
       "    }\n",
       "</style>\n",
       "<table border=\"1\" class=\"dataframe\">\n",
       "  <thead>\n",
       "    <tr style=\"text-align: right;\">\n",
       "      <th></th>\n",
       "      <th>SBUX</th>\n",
       "      <th>GOOG</th>\n",
       "      <th>META</th>\n",
       "      <th>AAPL</th>\n",
       "      <th>BAC</th>\n",
       "      <th>JPM</th>\n",
       "      <th>T</th>\n",
       "      <th>GE</th>\n",
       "      <th>MSFT</th>\n",
       "      <th>XOM</th>\n",
       "    </tr>\n",
       "  </thead>\n",
       "  <tbody>\n",
       "    <tr>\n",
       "      <th>SBUX</th>\n",
       "      <td>0.070171</td>\n",
       "      <td>0.039107</td>\n",
       "      <td>0.039958</td>\n",
       "      <td>0.038726</td>\n",
       "      <td>0.049672</td>\n",
       "      <td>0.044988</td>\n",
       "      <td>0.025763</td>\n",
       "      <td>0.041688</td>\n",
       "      <td>0.042900</td>\n",
       "      <td>0.035225</td>\n",
       "    </tr>\n",
       "    <tr>\n",
       "      <th>GOOG</th>\n",
       "      <td>0.039107</td>\n",
       "      <td>0.073183</td>\n",
       "      <td>0.057960</td>\n",
       "      <td>0.048820</td>\n",
       "      <td>0.043363</td>\n",
       "      <td>0.038345</td>\n",
       "      <td>0.022746</td>\n",
       "      <td>0.034876</td>\n",
       "      <td>0.055314</td>\n",
       "      <td>0.031012</td>\n",
       "    </tr>\n",
       "    <tr>\n",
       "      <th>META</th>\n",
       "      <td>0.039958</td>\n",
       "      <td>0.057960</td>\n",
       "      <td>0.102231</td>\n",
       "      <td>0.054850</td>\n",
       "      <td>0.042073</td>\n",
       "      <td>0.036577</td>\n",
       "      <td>0.019195</td>\n",
       "      <td>0.034930</td>\n",
       "      <td>0.054591</td>\n",
       "      <td>0.029165</td>\n",
       "    </tr>\n",
       "    <tr>\n",
       "      <th>AAPL</th>\n",
       "      <td>0.038726</td>\n",
       "      <td>0.048820</td>\n",
       "      <td>0.054850</td>\n",
       "      <td>0.088001</td>\n",
       "      <td>0.047181</td>\n",
       "      <td>0.041815</td>\n",
       "      <td>0.025187</td>\n",
       "      <td>0.037993</td>\n",
       "      <td>0.056972</td>\n",
       "      <td>0.033309</td>\n",
       "    </tr>\n",
       "    <tr>\n",
       "      <th>BAC</th>\n",
       "      <td>0.049672</td>\n",
       "      <td>0.043363</td>\n",
       "      <td>0.042073</td>\n",
       "      <td>0.047181</td>\n",
       "      <td>0.113289</td>\n",
       "      <td>0.091520</td>\n",
       "      <td>0.039148</td>\n",
       "      <td>0.070032</td>\n",
       "      <td>0.048616</td>\n",
       "      <td>0.059768</td>\n",
       "    </tr>\n",
       "    <tr>\n",
       "      <th>JPM</th>\n",
       "      <td>0.044988</td>\n",
       "      <td>0.038345</td>\n",
       "      <td>0.036577</td>\n",
       "      <td>0.041815</td>\n",
       "      <td>0.091520</td>\n",
       "      <td>0.086632</td>\n",
       "      <td>0.036288</td>\n",
       "      <td>0.063068</td>\n",
       "      <td>0.043720</td>\n",
       "      <td>0.054451</td>\n",
       "    </tr>\n",
       "    <tr>\n",
       "      <th>T</th>\n",
       "      <td>0.025763</td>\n",
       "      <td>0.022746</td>\n",
       "      <td>0.019195</td>\n",
       "      <td>0.025187</td>\n",
       "      <td>0.039148</td>\n",
       "      <td>0.036288</td>\n",
       "      <td>0.048101</td>\n",
       "      <td>0.036229</td>\n",
       "      <td>0.025294</td>\n",
       "      <td>0.031896</td>\n",
       "    </tr>\n",
       "    <tr>\n",
       "      <th>GE</th>\n",
       "      <td>0.041688</td>\n",
       "      <td>0.034876</td>\n",
       "      <td>0.034930</td>\n",
       "      <td>0.037993</td>\n",
       "      <td>0.070032</td>\n",
       "      <td>0.063068</td>\n",
       "      <td>0.036229</td>\n",
       "      <td>0.141631</td>\n",
       "      <td>0.037550</td>\n",
       "      <td>0.056092</td>\n",
       "    </tr>\n",
       "    <tr>\n",
       "      <th>MSFT</th>\n",
       "      <td>0.042900</td>\n",
       "      <td>0.055314</td>\n",
       "      <td>0.054591</td>\n",
       "      <td>0.056972</td>\n",
       "      <td>0.048616</td>\n",
       "      <td>0.043720</td>\n",
       "      <td>0.025294</td>\n",
       "      <td>0.037550</td>\n",
       "      <td>0.078146</td>\n",
       "      <td>0.032937</td>\n",
       "    </tr>\n",
       "    <tr>\n",
       "      <th>XOM</th>\n",
       "      <td>0.035225</td>\n",
       "      <td>0.031012</td>\n",
       "      <td>0.029165</td>\n",
       "      <td>0.033309</td>\n",
       "      <td>0.059768</td>\n",
       "      <td>0.054451</td>\n",
       "      <td>0.031896</td>\n",
       "      <td>0.056092</td>\n",
       "      <td>0.032937</td>\n",
       "      <td>0.076466</td>\n",
       "    </tr>\n",
       "  </tbody>\n",
       "</table>\n",
       "</div>"
      ],
      "text/plain": [
       "          SBUX      GOOG      META      AAPL       BAC       JPM         T  \\\n",
       "SBUX  0.070171  0.039107  0.039958  0.038726  0.049672  0.044988  0.025763   \n",
       "GOOG  0.039107  0.073183  0.057960  0.048820  0.043363  0.038345  0.022746   \n",
       "META  0.039958  0.057960  0.102231  0.054850  0.042073  0.036577  0.019195   \n",
       "AAPL  0.038726  0.048820  0.054850  0.088001  0.047181  0.041815  0.025187   \n",
       "BAC   0.049672  0.043363  0.042073  0.047181  0.113289  0.091520  0.039148   \n",
       "JPM   0.044988  0.038345  0.036577  0.041815  0.091520  0.086632  0.036288   \n",
       "T     0.025763  0.022746  0.019195  0.025187  0.039148  0.036288  0.048101   \n",
       "GE    0.041688  0.034876  0.034930  0.037993  0.070032  0.063068  0.036229   \n",
       "MSFT  0.042900  0.055314  0.054591  0.056972  0.048616  0.043720  0.025294   \n",
       "XOM   0.035225  0.031012  0.029165  0.033309  0.059768  0.054451  0.031896   \n",
       "\n",
       "            GE      MSFT       XOM  \n",
       "SBUX  0.041688  0.042900  0.035225  \n",
       "GOOG  0.034876  0.055314  0.031012  \n",
       "META  0.034930  0.054591  0.029165  \n",
       "AAPL  0.037993  0.056972  0.033309  \n",
       "BAC   0.070032  0.048616  0.059768  \n",
       "JPM   0.063068  0.043720  0.054451  \n",
       "T     0.036229  0.025294  0.031896  \n",
       "GE    0.141631  0.037550  0.056092  \n",
       "MSFT  0.037550  0.078146  0.032937  \n",
       "XOM   0.056092  0.032937  0.076466  "
      ]
     },
     "execution_count": 47,
     "metadata": {},
     "output_type": "execute_result"
    }
   ],
   "source": [
    "cov_matrix = risk_models.sample_cov(df_prices)\n",
    "cov_matrix"
   ]
  },
  {
   "cell_type": "code",
   "execution_count": 49,
   "metadata": {},
   "outputs": [],
   "source": [
    "from pypfopt.efficient_frontier import EfficientFrontier"
   ]
  },
  {
   "cell_type": "code",
   "execution_count": 50,
   "metadata": {},
   "outputs": [
    {
     "name": "stdout",
     "output_type": "stream",
     "text": [
      "Expected annual return: 31.8%\n",
      "Annual volatility: 26.4%\n",
      "Sharpe Ratio: 1.13\n"
     ]
    },
    {
     "data": {
      "text/plain": [
       "(0.31778475745043283, 0.26403143169275256, 1.1278382863028151)"
      ]
     },
     "execution_count": 50,
     "metadata": {},
     "output_type": "execute_result"
    }
   ],
   "source": [
    "# Optimize for maximal Sharpe ratio\n",
    "ef = EfficientFrontier(mu, cov_matrix)\n",
    "weights = ef.max_sharpe()\n",
    "ef.portfolio_performance(verbose=True)"
   ]
  },
  {
   "cell_type": "code",
   "execution_count": 40,
   "metadata": {},
   "outputs": [],
   "source": [
    "views = pd.Series(0.1, index=S.columns)"
   ]
  },
  {
   "cell_type": "code",
   "execution_count": null,
   "metadata": {},
   "outputs": [],
   "source": [
    "#SBUX will drop 20% (absolute)\n",
    "#MSFT will rise by 5% (absolute)\n",
    "#GOOG outperforms FB by 10%\n",
    "#BAC and JPM will outperform T and GE by 15%"
   ]
  },
  {
   "cell_type": "code",
   "execution_count": 51,
   "metadata": {},
   "outputs": [
    {
     "data": {
      "text/plain": [
       "array([[-0.2 ],\n",
       "       [ 0.05],\n",
       "       [ 0.1 ],\n",
       "       [ 0.15]])"
      ]
     },
     "execution_count": 51,
     "metadata": {},
     "output_type": "execute_result"
    }
   ],
   "source": [
    "Q = np.array([-0.20, 0.05, 0.10, 0.15]).reshape(-1, 1)\n",
    "Q"
   ]
  },
  {
   "cell_type": "code",
   "execution_count": null,
   "metadata": {},
   "outputs": [],
   "source": [
    "# -Each view has a corresponding row in the picking matrix (the order matters)\n",
    "# -Absolute views have a single 1 in the column corresponding to the ticker’s order in the universe.\n",
    "# -Relative views have a positive number in the nominally outperforming asset columns and a negative \n",
    "#    number in the nominally underperforming asset columns. The numbers in each row should sum up to 0."
   ]
  },
  {
   "cell_type": "code",
   "execution_count": 55,
   "metadata": {},
   "outputs": [],
   "source": [
    "P = np.array(\n",
    "    [\n",
    "        [1, 0, 0, 0, 0, 0, 0, 0, 0, 0],\n",
    "        [0, 0, 0, 0, 0, 0, 0, 0, 1, 0],\n",
    "        [0, 1, -1, 0, 0, 0, 0, 0, 0, 0],\n",
    "        [0, 0, 0, 0, 0.5, 0.5, -0.5, -0.5, 0, 0],\n",
    "    ]\n",
    ")"
   ]
  },
  {
   "cell_type": "code",
   "execution_count": 56,
   "metadata": {},
   "outputs": [
    {
     "data": {
      "text/plain": [
       "<pypfopt.black_litterman.BlackLittermanModel at 0x7f9f22f0a630>"
      ]
     },
     "execution_count": 56,
     "metadata": {},
     "output_type": "execute_result"
    }
   ],
   "source": [
    "viewdict = {\"AAPL\": 0.20, \"JPM\": -0.30, \"AAPL\": 0, \"SBUX\": -0.2, \"T\": 0.15}\n",
    "bl = BlackLittermanModel(cov_matrix, absolute_views=viewdict)\n",
    "bl"
   ]
  },
  {
   "cell_type": "code",
   "execution_count": 62,
   "metadata": {},
   "outputs": [
    {
     "data": {
      "text/plain": [
       "OrderedDict([('SBUX', 3.4745949497953776),\n",
       "             ('GOOG', 3.716561955589356e-16),\n",
       "             ('META', -4.0360384811253155e-17),\n",
       "             ('AAPL', -1.0445362556693438),\n",
       "             ('BAC', 6.980883177815883e-15),\n",
       "             ('JPM', 5.130091434908741),\n",
       "             ('T', -6.560150129034779),\n",
       "             ('GE', 1.086760381781198e-17),\n",
       "             ('MSFT', -1.109228691471946e-15),\n",
       "             ('XOM', -2.3060082663028204e-15)])"
      ]
     },
     "execution_count": 62,
     "metadata": {},
     "output_type": "execute_result"
    }
   ],
   "source": [
    "bl.bl_weights()"
   ]
  },
  {
   "cell_type": "code",
   "execution_count": 71,
   "metadata": {},
   "outputs": [],
   "source": [
    "rets = bl.bl_returns()\n",
    "es = EfficientFrontier(rets, cov_matrix)"
   ]
  },
  {
   "cell_type": "code",
   "execution_count": 72,
   "metadata": {},
   "outputs": [
    {
     "data": {
      "text/plain": [
       "SBUX   -0.104192\n",
       "GOOG   -0.052022\n",
       "META   -0.056297\n",
       "AAPL   -0.036120\n",
       "BAC    -0.132033\n",
       "JPM    -0.125359\n",
       "T       0.026005\n",
       "GE     -0.075072\n",
       "MSFT   -0.058120\n",
       "XOM    -0.061968\n",
       "dtype: float64"
      ]
     },
     "execution_count": 72,
     "metadata": {},
     "output_type": "execute_result"
    }
   ],
   "source": [
    "rets"
   ]
  },
  {
   "cell_type": "code",
   "execution_count": 73,
   "metadata": {},
   "outputs": [
    {
     "data": {
      "text/plain": [
       "OrderedDict([('SBUX', 0.0),\n",
       "             ('GOOG', 0.0807809560850821),\n",
       "             ('META', 0.0671716885291813),\n",
       "             ('AAPL', 0.0671766193549566),\n",
       "             ('BAC', 0.0),\n",
       "             ('JPM', 0.0),\n",
       "             ('T', 0.7848707360307801),\n",
       "             ('GE', 0.0),\n",
       "             ('MSFT', 0.0),\n",
       "             ('XOM', 0.0)])"
      ]
     },
     "execution_count": 73,
     "metadata": {},
     "output_type": "execute_result"
    }
   ],
   "source": [
    "es.efficient_return(0.01)"
   ]
  },
  {
   "cell_type": "code",
   "execution_count": 74,
   "metadata": {},
   "outputs": [
    {
     "name": "stdout",
     "output_type": "stream",
     "text": [
      "OrderedDict([('SBUX', 0.0), ('GOOG', 0.08078), ('META', 0.06717), ('AAPL', 0.06718), ('BAC', 0.0), ('JPM', 0.0), ('T', 0.78487), ('GE', 0.0), ('MSFT', 0.0), ('XOM', 0.0)])\n",
      "Expected annual return: 1.0%\n",
      "Annual volatility: 20.0%\n",
      "Sharpe Ratio: -0.05\n"
     ]
    },
    {
     "data": {
      "text/plain": [
       "(0.01, 0.20046206337448005, -0.04988475041943052)"
      ]
     },
     "execution_count": 74,
     "metadata": {},
     "output_type": "execute_result"
    }
   ],
   "source": [
    "# We can use the same helper methods as before\n",
    "weights = es.clean_weights()\n",
    "print(weights)\n",
    "es.portfolio_performance(verbose=True)"
   ]
  },
  {
   "cell_type": "code",
   "execution_count": null,
   "metadata": {},
   "outputs": [],
   "source": []
  }
 ],
 "metadata": {
  "kernelspec": {
   "display_name": "Python 3",
   "language": "python",
   "name": "python3"
  },
  "language_info": {
   "codemirror_mode": {
    "name": "ipython",
    "version": 3
   },
   "file_extension": ".py",
   "mimetype": "text/x-python",
   "name": "python",
   "nbconvert_exporter": "python",
   "pygments_lexer": "ipython3",
   "version": "3.7.1"
  }
 },
 "nbformat": 4,
 "nbformat_minor": 2
}
