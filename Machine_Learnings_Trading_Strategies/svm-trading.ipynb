{
 "cells": [
  {
   "cell_type": "code",
   "execution_count": 71,
   "metadata": {},
   "outputs": [],
   "source": [
    "# Step 1: Importing the libraries\n",
    "import pandas as pd\n",
    "import numpy as np\n",
    "import pandas_datareader as pdr\n",
    "import pandas_datareader.data as web\n",
    "import matplotlib.pyplot as plt\n",
    "%matplotlib inline  \n",
    "from datetime import datetime\n",
    "from sklearn.svm import SVR\n",
    "\n",
    "symbols = ['GOOGL']\n",
    " \n",
    "all_stocks = pd.DataFrame()"
   ]
  },
  {
   "cell_type": "code",
   "execution_count": 72,
   "metadata": {},
   "outputs": [],
   "source": [
    "start = pd.Timestamp('2010-01')\n",
    "end = pd.Timestamp('2020-12')\n",
    "data_source = 'yahoo'"
   ]
  },
  {
   "cell_type": "code",
   "execution_count": 73,
   "metadata": {},
   "outputs": [],
   "source": [
    "def get_symbols(symbols,data_source,ohlc,begin_date=None,end_date=None):\n",
    "    out = []\n",
    "    new_symbols = []\n",
    "    \n",
    "    for symbol in symbols:\n",
    "        df = web.DataReader(symbol, data_source, begin_date, end_date)\\\n",
    "        [['High','Low','Open','Close','Volume','Adj Close']]\n",
    "        new_symbols.append(symbol) \n",
    "        out.append(df[ohlc].astype('float'))\n",
    "        data = pd.concat(out, axis = 1)\n",
    "        data.columns = new_symbols\n",
    "        \n",
    "    return data"
   ]
  },
  {
   "cell_type": "code",
   "execution_count": 74,
   "metadata": {},
   "outputs": [],
   "source": [
    "# Step 2: Importing the dataset"
   ]
  },
  {
   "cell_type": "code",
   "execution_count": 75,
   "metadata": {},
   "outputs": [],
   "source": [
    "all_stocks = get_symbols(symbols,data_source=data_source,ohlc='Adj Close', begin_date=start, end_date=end)"
   ]
  },
  {
   "cell_type": "code",
   "execution_count": 76,
   "metadata": {},
   "outputs": [
    {
     "data": {
      "text/html": [
       "<div>\n",
       "<style scoped>\n",
       "    .dataframe tbody tr th:only-of-type {\n",
       "        vertical-align: middle;\n",
       "    }\n",
       "\n",
       "    .dataframe tbody tr th {\n",
       "        vertical-align: top;\n",
       "    }\n",
       "\n",
       "    .dataframe thead th {\n",
       "        text-align: right;\n",
       "    }\n",
       "</style>\n",
       "<table border=\"1\" class=\"dataframe\">\n",
       "  <thead>\n",
       "    <tr style=\"text-align: right;\">\n",
       "      <th></th>\n",
       "      <th>GOOGL</th>\n",
       "    </tr>\n",
       "    <tr>\n",
       "      <th>Date</th>\n",
       "      <th></th>\n",
       "    </tr>\n",
       "  </thead>\n",
       "  <tbody>\n",
       "    <tr>\n",
       "      <th>2010-01-04</th>\n",
       "      <td>313.688690</td>\n",
       "    </tr>\n",
       "    <tr>\n",
       "      <th>2010-01-05</th>\n",
       "      <td>312.307312</td>\n",
       "    </tr>\n",
       "    <tr>\n",
       "      <th>2010-01-06</th>\n",
       "      <td>304.434448</td>\n",
       "    </tr>\n",
       "    <tr>\n",
       "      <th>2010-01-07</th>\n",
       "      <td>297.347351</td>\n",
       "    </tr>\n",
       "    <tr>\n",
       "      <th>2010-01-08</th>\n",
       "      <td>301.311310</td>\n",
       "    </tr>\n",
       "  </tbody>\n",
       "</table>\n",
       "</div>"
      ],
      "text/plain": [
       "                 GOOGL\n",
       "Date                  \n",
       "2010-01-04  313.688690\n",
       "2010-01-05  312.307312\n",
       "2010-01-06  304.434448\n",
       "2010-01-07  297.347351\n",
       "2010-01-08  301.311310"
      ]
     },
     "execution_count": 76,
     "metadata": {},
     "output_type": "execute_result"
    }
   ],
   "source": [
    "all_stocks.head()"
   ]
  },
  {
   "cell_type": "code",
   "execution_count": 77,
   "metadata": {},
   "outputs": [
    {
     "name": "stdout",
     "output_type": "stream",
     "text": [
      "                  GOOGL  Prediction\n",
      "Date                               \n",
      "2020-11-24  1763.900024         NaN\n",
      "2020-11-25  1764.130005         NaN\n",
      "2020-11-27  1787.020020         NaN\n",
      "2020-11-30  1754.400024         NaN\n",
      "2020-12-01  1795.359985         NaN\n"
     ]
    }
   ],
   "source": [
    "#Create one more column Prediction shifted 15 days up. \n",
    "all_stocks['Prediction'] = all_stocks[['GOOGL']].shift(-15)\n",
    "#print data set\n",
    "print(all_stocks.tail())"
   ]
  },
  {
   "cell_type": "code",
   "execution_count": 78,
   "metadata": {},
   "outputs": [
    {
     "name": "stdout",
     "output_type": "stream",
     "text": [
      "[[ 313.68869019]\n",
      " [ 312.30731201]\n",
      " [ 304.43444824]\n",
      " ...\n",
      " [1762.5       ]\n",
      " [1759.72998047]\n",
      " [1761.42004395]]\n"
     ]
    }
   ],
   "source": [
    "#Create a data set X and convert it into numpy array , which will be having actual values\n",
    "X = np.array(all_stocks.drop(['Prediction'],1))\n",
    "#Remove the last 15 rows\n",
    "X = X[:-15]\n",
    "print(X)"
   ]
  },
  {
   "cell_type": "code",
   "execution_count": 81,
   "metadata": {},
   "outputs": [
    {
     "name": "stdout",
     "output_type": "stream",
     "text": [
      "[ 271.48147583  271.32131958  267.41241455 ... 1787.02001953 1754.40002441\n",
      " 1795.35998535]\n"
     ]
    }
   ],
   "source": [
    "y = np.array(all_stocks['Prediction'])\n",
    "y = y[:-15]\n",
    "print(y)"
   ]
  },
  {
   "cell_type": "code",
   "execution_count": 82,
   "metadata": {},
   "outputs": [],
   "source": [
    "# Step 3: Feature Scaling\n",
    "from sklearn.preprocessing import StandardScaler\n",
    "sc_X = StandardScaler()\n",
    "sc_y = StandardScaler()"
   ]
  },
  {
   "cell_type": "code",
   "execution_count": 83,
   "metadata": {},
   "outputs": [
    {
     "name": "stdout",
     "output_type": "stream",
     "text": [
      "[[-1.04956936]\n",
      " [-1.05319091]\n",
      " [-1.07383115]\n",
      " ...\n",
      " [ 2.74877086]\n",
      " [ 2.74150872]\n",
      " [ 2.74593955]]\n"
     ]
    }
   ],
   "source": [
    "X = sc_X.fit_transform(X.reshape(-1,1))\n",
    "y = sc_y.fit_transform(y.reshape(-1,1))\n",
    "print(X)"
   ]
  },
  {
   "cell_type": "code",
   "execution_count": 84,
   "metadata": {},
   "outputs": [],
   "source": [
    "# Split the data into train and test with 90 & 10 % respectively\n",
    "x_train, x_test, y_train, y_test = train_test_split(X, y, test_size=0.1)"
   ]
  },
  {
   "cell_type": "code",
   "execution_count": 85,
   "metadata": {},
   "outputs": [
    {
     "name": "stderr",
     "output_type": "stream",
     "text": [
      "/Users/syang14/anaconda3/lib/python3.7/site-packages/sklearn/utils/validation.py:63: DataConversionWarning: A column-vector y was passed when a 1d array was expected. Please change the shape of y to (n_samples, ), for example using ravel().\n",
      "  return f(*args, **kwargs)\n"
     ]
    },
    {
     "data": {
      "text/plain": [
       "SVR(C=1000.0, gamma=0.1)"
      ]
     },
     "execution_count": 85,
     "metadata": {},
     "output_type": "execute_result"
    }
   ],
   "source": [
    "# SVM Model\n",
    "svr = SVR(kernel='rbf', C=1e3, gamma=0.1)\n",
    "# Train the model \n",
    "svr.fit(x_train.reshape(-1,1), y_train.reshape(-1,1))"
   ]
  },
  {
   "cell_type": "code",
   "execution_count": 86,
   "metadata": {},
   "outputs": [],
   "source": [
    "y_pred = svr.predict(x_test)\n",
    "y_pred = sc_y.inverse_transform(y_pred)"
   ]
  },
  {
   "cell_type": "code",
   "execution_count": 87,
   "metadata": {},
   "outputs": [
    {
     "data": {
      "text/plain": [
       "0.9796730824229576"
      ]
     },
     "execution_count": 87,
     "metadata": {},
     "output_type": "execute_result"
    }
   ],
   "source": [
    "# Returns the coefficient of determination R² of the prediction.\n",
    "svm_confidence = svr.score(x_test, y_test)\n",
    "svm_confidence"
   ]
  },
  {
   "cell_type": "code",
   "execution_count": 88,
   "metadata": {},
   "outputs": [
    {
     "name": "stdout",
     "output_type": "stream",
     "text": [
      "svm confidence:  0.9796730824229576\n"
     ]
    }
   ],
   "source": [
    "# The best possible score is 1.0\n",
    "svm_confidence = svr.score(x_test, y_test)\n",
    "print(\"svm confidence: \", svm_confidence)"
   ]
  },
  {
   "cell_type": "code",
   "execution_count": 89,
   "metadata": {},
   "outputs": [
    {
     "data": {
      "text/html": [
       "<div>\n",
       "<style scoped>\n",
       "    .dataframe tbody tr th:only-of-type {\n",
       "        vertical-align: middle;\n",
       "    }\n",
       "\n",
       "    .dataframe tbody tr th {\n",
       "        vertical-align: top;\n",
       "    }\n",
       "\n",
       "    .dataframe thead th {\n",
       "        text-align: right;\n",
       "    }\n",
       "</style>\n",
       "<table border=\"1\" class=\"dataframe\">\n",
       "  <thead>\n",
       "    <tr style=\"text-align: right;\">\n",
       "      <th></th>\n",
       "      <th>Real Values</th>\n",
       "      <th>Predicted Values</th>\n",
       "    </tr>\n",
       "  </thead>\n",
       "  <tbody>\n",
       "    <tr>\n",
       "      <th>0</th>\n",
       "      <td>452.387390</td>\n",
       "      <td>406.684916</td>\n",
       "    </tr>\n",
       "    <tr>\n",
       "      <th>1</th>\n",
       "      <td>758.479980</td>\n",
       "      <td>741.103433</td>\n",
       "    </tr>\n",
       "    <tr>\n",
       "      <th>2</th>\n",
       "      <td>1258.150024</td>\n",
       "      <td>1157.420143</td>\n",
       "    </tr>\n",
       "    <tr>\n",
       "      <th>3</th>\n",
       "      <td>529.549988</td>\n",
       "      <td>532.859349</td>\n",
       "    </tr>\n",
       "    <tr>\n",
       "      <th>4</th>\n",
       "      <td>246.116119</td>\n",
       "      <td>248.176601</td>\n",
       "    </tr>\n",
       "    <tr>\n",
       "      <th>5</th>\n",
       "      <td>435.330322</td>\n",
       "      <td>436.314067</td>\n",
       "    </tr>\n",
       "    <tr>\n",
       "      <th>6</th>\n",
       "      <td>1125.369995</td>\n",
       "      <td>1121.086273</td>\n",
       "    </tr>\n",
       "    <tr>\n",
       "      <th>7</th>\n",
       "      <td>416.176178</td>\n",
       "      <td>396.001672</td>\n",
       "    </tr>\n",
       "    <tr>\n",
       "      <th>8</th>\n",
       "      <td>856.750000</td>\n",
       "      <td>842.807032</td>\n",
       "    </tr>\n",
       "    <tr>\n",
       "      <th>9</th>\n",
       "      <td>284.334320</td>\n",
       "      <td>337.085377</td>\n",
       "    </tr>\n",
       "    <tr>\n",
       "      <th>10</th>\n",
       "      <td>1068.369995</td>\n",
       "      <td>1201.056508</td>\n",
       "    </tr>\n",
       "    <tr>\n",
       "      <th>11</th>\n",
       "      <td>344.304291</td>\n",
       "      <td>374.452026</td>\n",
       "    </tr>\n",
       "    <tr>\n",
       "      <th>12</th>\n",
       "      <td>281.626617</td>\n",
       "      <td>287.676420</td>\n",
       "    </tr>\n",
       "    <tr>\n",
       "      <th>13</th>\n",
       "      <td>270.680695</td>\n",
       "      <td>299.957169</td>\n",
       "    </tr>\n",
       "    <tr>\n",
       "      <th>14</th>\n",
       "      <td>263.848846</td>\n",
       "      <td>242.357472</td>\n",
       "    </tr>\n",
       "    <tr>\n",
       "      <th>15</th>\n",
       "      <td>606.046021</td>\n",
       "      <td>556.883810</td>\n",
       "    </tr>\n",
       "    <tr>\n",
       "      <th>16</th>\n",
       "      <td>591.489990</td>\n",
       "      <td>574.702452</td>\n",
       "    </tr>\n",
       "    <tr>\n",
       "      <th>17</th>\n",
       "      <td>237.677673</td>\n",
       "      <td>268.734010</td>\n",
       "    </tr>\n",
       "    <tr>\n",
       "      <th>18</th>\n",
       "      <td>842.169983</td>\n",
       "      <td>870.729213</td>\n",
       "    </tr>\n",
       "    <tr>\n",
       "      <th>19</th>\n",
       "      <td>1091.359985</td>\n",
       "      <td>1198.615742</td>\n",
       "    </tr>\n",
       "    <tr>\n",
       "      <th>20</th>\n",
       "      <td>320.940948</td>\n",
       "      <td>304.558975</td>\n",
       "    </tr>\n",
       "    <tr>\n",
       "      <th>21</th>\n",
       "      <td>827.179993</td>\n",
       "      <td>829.104716</td>\n",
       "    </tr>\n",
       "    <tr>\n",
       "      <th>22</th>\n",
       "      <td>391.821808</td>\n",
       "      <td>372.936867</td>\n",
       "    </tr>\n",
       "    <tr>\n",
       "      <th>23</th>\n",
       "      <td>713.530029</td>\n",
       "      <td>729.333916</td>\n",
       "    </tr>\n",
       "    <tr>\n",
       "      <th>24</th>\n",
       "      <td>235.385391</td>\n",
       "      <td>252.130823</td>\n",
       "    </tr>\n",
       "    <tr>\n",
       "      <th>25</th>\n",
       "      <td>608.433411</td>\n",
       "      <td>587.456523</td>\n",
       "    </tr>\n",
       "    <tr>\n",
       "      <th>26</th>\n",
       "      <td>1115.040039</td>\n",
       "      <td>1068.126682</td>\n",
       "    </tr>\n",
       "    <tr>\n",
       "      <th>27</th>\n",
       "      <td>992.309998</td>\n",
       "      <td>943.591167</td>\n",
       "    </tr>\n",
       "    <tr>\n",
       "      <th>28</th>\n",
       "      <td>637.049988</td>\n",
       "      <td>697.312266</td>\n",
       "    </tr>\n",
       "    <tr>\n",
       "      <th>29</th>\n",
       "      <td>530.659973</td>\n",
       "      <td>541.238012</td>\n",
       "    </tr>\n",
       "    <tr>\n",
       "      <th>...</th>\n",
       "      <td>...</td>\n",
       "      <td>...</td>\n",
       "    </tr>\n",
       "    <tr>\n",
       "      <th>244</th>\n",
       "      <td>1159.270020</td>\n",
       "      <td>1099.734654</td>\n",
       "    </tr>\n",
       "    <tr>\n",
       "      <th>245</th>\n",
       "      <td>1197.250000</td>\n",
       "      <td>1141.468288</td>\n",
       "    </tr>\n",
       "    <tr>\n",
       "      <th>246</th>\n",
       "      <td>754.840027</td>\n",
       "      <td>743.632892</td>\n",
       "    </tr>\n",
       "    <tr>\n",
       "      <th>247</th>\n",
       "      <td>305.965973</td>\n",
       "      <td>309.662306</td>\n",
       "    </tr>\n",
       "    <tr>\n",
       "      <th>248</th>\n",
       "      <td>375.065063</td>\n",
       "      <td>345.244062</td>\n",
       "    </tr>\n",
       "    <tr>\n",
       "      <th>249</th>\n",
       "      <td>262.687683</td>\n",
       "      <td>260.468884</td>\n",
       "    </tr>\n",
       "    <tr>\n",
       "      <th>250</th>\n",
       "      <td>1475.969971</td>\n",
       "      <td>1469.027025</td>\n",
       "    </tr>\n",
       "    <tr>\n",
       "      <th>251</th>\n",
       "      <td>263.693695</td>\n",
       "      <td>294.592334</td>\n",
       "    </tr>\n",
       "    <tr>\n",
       "      <th>252</th>\n",
       "      <td>268.443451</td>\n",
       "      <td>253.834292</td>\n",
       "    </tr>\n",
       "    <tr>\n",
       "      <th>253</th>\n",
       "      <td>520.039978</td>\n",
       "      <td>554.715130</td>\n",
       "    </tr>\n",
       "    <tr>\n",
       "      <th>254</th>\n",
       "      <td>796.869995</td>\n",
       "      <td>820.413060</td>\n",
       "    </tr>\n",
       "    <tr>\n",
       "      <th>255</th>\n",
       "      <td>582.270020</td>\n",
       "      <td>601.705935</td>\n",
       "    </tr>\n",
       "    <tr>\n",
       "      <th>256</th>\n",
       "      <td>791.299988</td>\n",
       "      <td>810.494725</td>\n",
       "    </tr>\n",
       "    <tr>\n",
       "      <th>257</th>\n",
       "      <td>424.699707</td>\n",
       "      <td>448.053956</td>\n",
       "    </tr>\n",
       "    <tr>\n",
       "      <th>258</th>\n",
       "      <td>293.863861</td>\n",
       "      <td>302.305238</td>\n",
       "    </tr>\n",
       "    <tr>\n",
       "      <th>259</th>\n",
       "      <td>436.251251</td>\n",
       "      <td>443.254739</td>\n",
       "    </tr>\n",
       "    <tr>\n",
       "      <th>260</th>\n",
       "      <td>299.729736</td>\n",
       "      <td>299.985373</td>\n",
       "    </tr>\n",
       "    <tr>\n",
       "      <th>261</th>\n",
       "      <td>542.580017</td>\n",
       "      <td>564.249572</td>\n",
       "    </tr>\n",
       "    <tr>\n",
       "      <th>262</th>\n",
       "      <td>1130.010010</td>\n",
       "      <td>1361.965682</td>\n",
       "    </tr>\n",
       "    <tr>\n",
       "      <th>263</th>\n",
       "      <td>305.795807</td>\n",
       "      <td>312.343228</td>\n",
       "    </tr>\n",
       "    <tr>\n",
       "      <th>264</th>\n",
       "      <td>259.469482</td>\n",
       "      <td>269.633045</td>\n",
       "    </tr>\n",
       "    <tr>\n",
       "      <th>265</th>\n",
       "      <td>1448.040039</td>\n",
       "      <td>1399.420732</td>\n",
       "    </tr>\n",
       "    <tr>\n",
       "      <th>266</th>\n",
       "      <td>1432.699951</td>\n",
       "      <td>1469.079213</td>\n",
       "    </tr>\n",
       "    <tr>\n",
       "      <th>267</th>\n",
       "      <td>443.568573</td>\n",
       "      <td>439.211742</td>\n",
       "    </tr>\n",
       "    <tr>\n",
       "      <th>268</th>\n",
       "      <td>1356.859985</td>\n",
       "      <td>1291.579890</td>\n",
       "    </tr>\n",
       "    <tr>\n",
       "      <th>269</th>\n",
       "      <td>715.309998</td>\n",
       "      <td>716.411873</td>\n",
       "    </tr>\n",
       "    <tr>\n",
       "      <th>270</th>\n",
       "      <td>298.368378</td>\n",
       "      <td>300.521411</td>\n",
       "    </tr>\n",
       "    <tr>\n",
       "      <th>271</th>\n",
       "      <td>302.622620</td>\n",
       "      <td>295.032171</td>\n",
       "    </tr>\n",
       "    <tr>\n",
       "      <th>272</th>\n",
       "      <td>1629.510010</td>\n",
       "      <td>1548.158578</td>\n",
       "    </tr>\n",
       "    <tr>\n",
       "      <th>273</th>\n",
       "      <td>970.549988</td>\n",
       "      <td>950.924093</td>\n",
       "    </tr>\n",
       "  </tbody>\n",
       "</table>\n",
       "<p>274 rows × 2 columns</p>\n",
       "</div>"
      ],
      "text/plain": [
       "     Real Values  Predicted Values\n",
       "0     452.387390        406.684916\n",
       "1     758.479980        741.103433\n",
       "2    1258.150024       1157.420143\n",
       "3     529.549988        532.859349\n",
       "4     246.116119        248.176601\n",
       "5     435.330322        436.314067\n",
       "6    1125.369995       1121.086273\n",
       "7     416.176178        396.001672\n",
       "8     856.750000        842.807032\n",
       "9     284.334320        337.085377\n",
       "10   1068.369995       1201.056508\n",
       "11    344.304291        374.452026\n",
       "12    281.626617        287.676420\n",
       "13    270.680695        299.957169\n",
       "14    263.848846        242.357472\n",
       "15    606.046021        556.883810\n",
       "16    591.489990        574.702452\n",
       "17    237.677673        268.734010\n",
       "18    842.169983        870.729213\n",
       "19   1091.359985       1198.615742\n",
       "20    320.940948        304.558975\n",
       "21    827.179993        829.104716\n",
       "22    391.821808        372.936867\n",
       "23    713.530029        729.333916\n",
       "24    235.385391        252.130823\n",
       "25    608.433411        587.456523\n",
       "26   1115.040039       1068.126682\n",
       "27    992.309998        943.591167\n",
       "28    637.049988        697.312266\n",
       "29    530.659973        541.238012\n",
       "..           ...               ...\n",
       "244  1159.270020       1099.734654\n",
       "245  1197.250000       1141.468288\n",
       "246   754.840027        743.632892\n",
       "247   305.965973        309.662306\n",
       "248   375.065063        345.244062\n",
       "249   262.687683        260.468884\n",
       "250  1475.969971       1469.027025\n",
       "251   263.693695        294.592334\n",
       "252   268.443451        253.834292\n",
       "253   520.039978        554.715130\n",
       "254   796.869995        820.413060\n",
       "255   582.270020        601.705935\n",
       "256   791.299988        810.494725\n",
       "257   424.699707        448.053956\n",
       "258   293.863861        302.305238\n",
       "259   436.251251        443.254739\n",
       "260   299.729736        299.985373\n",
       "261   542.580017        564.249572\n",
       "262  1130.010010       1361.965682\n",
       "263   305.795807        312.343228\n",
       "264   259.469482        269.633045\n",
       "265  1448.040039       1399.420732\n",
       "266  1432.699951       1469.079213\n",
       "267   443.568573        439.211742\n",
       "268  1356.859985       1291.579890\n",
       "269   715.309998        716.411873\n",
       "270   298.368378        300.521411\n",
       "271   302.622620        295.032171\n",
       "272  1629.510010       1548.158578\n",
       "273   970.549988        950.924093\n",
       "\n",
       "[274 rows x 2 columns]"
      ]
     },
     "execution_count": 89,
     "metadata": {},
     "output_type": "execute_result"
    }
   ],
   "source": [
    "# Step 7: Comparing the Test Set with Predicted Values\n",
    "df = pd.DataFrame({'Real Values':sc_y.inverse_transform(y_test.reshape(-1)), 'Predicted Values':y_pred})\n",
    "df"
   ]
  },
  {
   "cell_type": "code",
   "execution_count": 90,
   "metadata": {},
   "outputs": [
    {
     "data": {
      "image/png": "[encoded data removed]",
      "text/plain": [
       "<Figure size 1332x756 with 1 Axes>"
      ]
     },
     "metadata": {
      "needs_background": "light"
     },
     "output_type": "display_data"
    }
   ],
   "source": [
    "#Step 8: Visualising the SVR results\n",
    "X_grid = np.arange(min(X), max(X), 0.1)\n",
    "X_grid = X_grid.reshape((len(X_grid), 1))\n",
    "plt.rcParams[\"figure.figsize\"] = (18.5, 10.5)\n",
    "plt.scatter(sc_X.inverse_transform(x_test), sc_y.inverse_transform(y_test.reshape(-1)), color = 'red')\n",
    "plt.scatter(sc_X.inverse_transform(x_test), y_pred, color = 'green')\n",
    "plt.title('SVR Regression')\n",
    "plt.xlabel('Position level')\n",
    "plt.ylabel('Salary')\n",
    "plt.show()"
   ]
  },
  {
   "cell_type": "code",
   "execution_count": null,
   "metadata": {},
   "outputs": [],
   "source": []
  }
 ],
 "metadata": {
  "kernelspec": {
   "display_name": "Python 3",
   "language": "python",
   "name": "python3"
  },
  "language_info": {
   "codemirror_mode": {
    "name": "ipython",
    "version": 3
   },
   "file_extension": ".py",
   "mimetype": "text/x-python",
   "name": "python",
   "nbconvert_exporter": "python",
   "pygments_lexer": "ipython3",
   "version": "3.7.1"
  }
 },
 "nbformat": 4,
 "nbformat_minor": 2
}
